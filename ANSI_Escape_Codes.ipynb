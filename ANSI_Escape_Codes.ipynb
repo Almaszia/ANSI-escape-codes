{
 "cells": [
  {
   "cell_type": "markdown",
   "metadata": {},
   "source": [
    "ANSI escape codes are a standardized way of controlling text formatting, colors, and other visual aspects in terminal environments. Here's an overview of some commonly used ANSI escape codes along with code examples for each in separate Jupyter Notebook cells:"
   ]
  },
  {
   "cell_type": "markdown",
   "metadata": {},
   "source": [
    "***ANSI Escape Codes Overview***\n",
    "\n",
    "1. **Reset All Attributes (\\033[0m):**  -This code resets all text attributes to their default values.\n",
    "\n",
    "2. **Bold Text (\\033[1m):** -This code makes the text bold.\n",
    "\n",
    "3. **Underline Text (\\033[4m):** -This code underlines the text.\n",
    "\n",
    "4. **Text Colors:**\n",
    "   - *Red (\\033[91m)*\n",
    "   - *Green (\\033[92m)*\n",
    "   - *Yellow (\\033[93m)*\n",
    "   - *Blue (\\033[94m)*\n",
    "   - *Magenta (\\033[95m)*\n",
    "   - *Cyan (\\033[96m)*"
   ]
  },
  {
   "cell_type": "code",
   "execution_count": 5,
   "metadata": {},
   "outputs": [
    {
     "name": "stdout",
     "output_type": "stream",
     "text": [
      "This is normal text.\u001b[0m\n"
     ]
    }
   ],
   "source": [
    "reset_code = '\\033[0m'\n",
    "print(\"This is normal text.\" + reset_code)"
   ]
  },
  {
   "cell_type": "code",
   "execution_count": 2,
   "metadata": {},
   "outputs": [
    {
     "name": "stdout",
     "output_type": "stream",
     "text": [
      "\u001b[1mThis is bold text.\u001b[0m\n"
     ]
    }
   ],
   "source": [
    "bold_code = '\\033[1m'\n",
    "reset_code = '\\033[0m'\n",
    "print(bold_code + \"This is bold text.\" + reset_code)"
   ]
  },
  {
   "cell_type": "code",
   "execution_count": 3,
   "metadata": {},
   "outputs": [
    {
     "name": "stdout",
     "output_type": "stream",
     "text": [
      "\u001b[4mThis is underlined text.\u001b[0m\n"
     ]
    }
   ],
   "source": [
    "underline_code = '\\033[4m'\n",
    "reset_code = '\\033[0m'\n",
    "print(underline_code + \"This is underlined text.\" + reset_code)"
   ]
  },
  {
   "cell_type": "code",
   "execution_count": 4,
   "metadata": {},
   "outputs": [
    {
     "name": "stdout",
     "output_type": "stream",
     "text": [
      "\u001b[91mThis is red text.\u001b[0m\n",
      "\u001b[92mThis is green text.\u001b[0m\n",
      "\u001b[93mThis is yellow text.\u001b[0m\n",
      "\u001b[94mThis is blue text.\u001b[0m\n",
      "\u001b[95mThis is magenta text.\u001b[0m\n",
      "\u001b[96mThis is cyan text.\u001b[0m\n"
     ]
    }
   ],
   "source": [
    "red_code = '\\033[91m'\n",
    "green_code = '\\033[92m'\n",
    "yellow_code = '\\033[93m'\n",
    "blue_code = '\\033[94m'\n",
    "magenta_code = '\\033[95m'\n",
    "cyan_code = '\\033[96m'\n",
    "\n",
    "reset_code = '\\033[0m'\n",
    "\n",
    "print(red_code + \"This is red text.\" + reset_code)\n",
    "print(green_code + \"This is green text.\" + reset_code)\n",
    "print(yellow_code + \"This is yellow text.\" + reset_code)\n",
    "print(blue_code + \"This is blue text.\" + reset_code)\n",
    "print(magenta_code + \"This is magenta text.\" + reset_code)\n",
    "print(cyan_code + \"This is cyan text.\" + reset_code)"
   ]
  }
 ],
 "metadata": {
  "kernelspec": {
   "display_name": "Python 3",
   "language": "python",
   "name": "python3"
  },
  "language_info": {
   "codemirror_mode": {
    "name": "ipython",
    "version": 3
   },
   "file_extension": ".py",
   "mimetype": "text/x-python",
   "name": "python",
   "nbconvert_exporter": "python",
   "pygments_lexer": "ipython3",
   "version": "3.9.12"
  }
 },
 "nbformat": 4,
 "nbformat_minor": 2
}
